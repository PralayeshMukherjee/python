{
 "cells": [
  {
   "cell_type": "code",
   "execution_count": 1,
   "id": "f7200974",
   "metadata": {},
   "outputs": [],
   "source": [
    "## Numpy Array operations"
   ]
  },
  {
   "cell_type": "code",
   "execution_count": 2,
   "id": "4eb10b43",
   "metadata": {},
   "outputs": [],
   "source": [
    "import numpy as np"
   ]
  },
  {
   "cell_type": "code",
   "execution_count": 5,
   "id": "b4490a8d",
   "metadata": {},
   "outputs": [
    {
     "name": "stdout",
     "output_type": "stream",
     "text": [
      "Basic Slicing \n",
      " [3 4 5 6 7]\n",
      "with step \n",
      " [2 4 6 8]\n"
     ]
    }
   ],
   "source": [
    "arr = np.array([1,2,3,4,5,6,7,8,9]);\n",
    "print(\"Basic Slicing \\n\", arr[2:7]) #it gives the array index of 2->6\n",
    "print(\"with step \\n\",arr[1:8:2]); # it gives the array index of 1->7 with the gap of 2"
   ]
  },
  {
   "cell_type": "code",
   "execution_count": 11,
   "id": "b01a9af3",
   "metadata": {},
   "outputs": [
    {
     "name": "stdout",
     "output_type": "stream",
     "text": [
      "Specific element \n",
      " 6\n",
      "Entire row: \n",
      " [4 5 6]\n",
      "Entire column: \n",
      " [2 5 8]\n"
     ]
    }
   ],
   "source": [
    "arr_2d = np.array([[1,2,3],\n",
    "                   [4,5,6],\n",
    "                   [7,8,9]]);\n",
    "print(\"Specific element \\n\",arr_2d[1,2]) # it gives element of 1st row and 2nd column means ith row and jth column basically means arr[i][j] in java/c/c++\n",
    "print(\"Entire row: \\n\", arr_2d[1]) #its gives the entire 1st row or the ith row\n",
    "print(\"Entire column: \\n\", arr_2d[:,1]) #its gives entire 1st column or the jth column"
   ]
  },
  {
   "cell_type": "markdown",
   "id": "ce15b875",
   "metadata": {},
   "source": [
    "### Sorting"
   ]
  },
  {
   "cell_type": "code",
   "execution_count": 17,
   "id": "e7dbfce3",
   "metadata": {},
   "outputs": [
    {
     "name": "stdout",
     "output_type": "stream",
     "text": [
      "Sorted Array: \n",
      " [1 1 2 3 4 5 9]\n",
      "Sort 2D Array Column Wise: \n",
      " [[2 1]\n",
      " [3 3]\n",
      " [4 5]]\n",
      "Sorted 2D Array Row Wise: \n",
      " [[1 3]\n",
      " [2 3]\n",
      " [4 5]]\n"
     ]
    }
   ],
   "source": [
    "unsorted = np.array([3,1,4,1,5,9,2])\n",
    "print(\"Sorted Array: \\n\",np.sort(unsorted)) #it gives you the sorted array\n",
    "\n",
    "unsorted_2d = np.array([[3,1],\n",
    "                        [2,3],\n",
    "                        [4,5]]);\n",
    "print(\"Sort 2D Array Column Wise: \\n\",np.sort(unsorted_2d, axis=0)) #it gives the sorted 2D array Column wise\n",
    "print(\"Sorted 2D Array Row Wise: \\n\",np.sort(unsorted_2d,axis=1))#it gives the sorted 2D array Row wise"
   ]
  },
  {
   "cell_type": "markdown",
   "id": "f09c9065",
   "metadata": {},
   "source": [
    "### Filter Array"
   ]
  },
  {
   "cell_type": "code",
   "execution_count": 21,
   "id": "8a04f16c",
   "metadata": {},
   "outputs": [
    {
     "name": "stdout",
     "output_type": "stream",
     "text": [
      "Even Numbers:  [ 2  4  6  8 10]\n"
     ]
    }
   ],
   "source": [
    "number = np.arange(1,11);\n",
    "even_number = number[number%2==0] #its gives all even numbers\n",
    "print(\"Even Numbers: \",even_number)"
   ]
  },
  {
   "cell_type": "markdown",
   "id": "e31c97af",
   "metadata": {},
   "source": [
    "### Filter with mask"
   ]
  },
  {
   "cell_type": "code",
   "execution_count": 25,
   "id": "3695f8d3",
   "metadata": {},
   "outputs": [
    {
     "name": "stdout",
     "output_type": "stream",
     "text": [
      "Numbers greater than 5  [ 6  7  8  9 10]\n"
     ]
    }
   ],
   "source": [
    "mask = number > 5;\n",
    "print(\"Numbers greater than 5 \",number[mask]) #return numbers whic hare greater than 5"
   ]
  },
  {
   "cell_type": "markdown",
   "id": "5fb10260",
   "metadata": {},
   "source": [
    "### Fancy Indexing vs np.where()"
   ]
  },
  {
   "cell_type": "code",
   "execution_count": 30,
   "id": "14c86098",
   "metadata": {},
   "outputs": [
    {
     "name": "stdout",
     "output_type": "stream",
     "text": [
      "[ 1  2  3  4  5  6  7  8  9 10] \n",
      "\n",
      "[1 3 5]\n",
      "\n",
      "Indices of elements in the numbers array who are greater than 5: \n",
      " (array([5, 6, 7, 8, 9]),)\n",
      "so the elements which are greater than 5:\n",
      " [ 6  7  8  9 10]\n"
     ]
    }
   ],
   "source": [
    "print(number,\"\\n\")\n",
    "indices = [0,2,4]\n",
    "print(number[indices]) #return indices of 0,2,4 values in numbers array\n",
    "\n",
    "where_result = np.where(number>5)\n",
    "print(\"\\nIndices of elements in the numbers array who are greater than 5: \\n\",where_result);#it return indices of array which elements greater than 5\n",
    "print(\"so the elements which are greater than 5:\\n\",number[where_result])#it return elements from the array which indices contains inside another array"
   ]
  },
  {
   "cell_type": "code",
   "execution_count": 32,
   "id": "5d8f56fc",
   "metadata": {},
   "outputs": [
    {
     "name": "stdout",
     "output_type": "stream",
     "text": [
      "[ 1  2  3  4  5 12 14 16 18 20]\n"
     ]
    }
   ],
   "source": [
    "condition_array = np.where(number>5,number*2,number)#it always tekes 2 conditions and check which indices greater than 5 and then multiply the elements of the indices by 2 and then return the elements of which indices that are inside the array\n",
    "print(condition_array)"
   ]
  },
  {
   "cell_type": "markdown",
   "id": "212013ac",
   "metadata": {},
   "source": [
    "### adding and removing data "
   ]
  },
  {
   "cell_type": "code",
   "execution_count": 37,
   "id": "959ca301",
   "metadata": {},
   "outputs": [
    {
     "name": "stdout",
     "output_type": "stream",
     "text": [
      "The sum array is: \n",
      " [5 7 9]\n",
      "combined 2 arrays: \n",
      " [1 2 3 4 5 6]\n"
     ]
    }
   ],
   "source": [
    "arr1 = np.array([1,2,3]);\n",
    "arr2 = np.array([4,5,6]);\n",
    "sum_array = arr1+arr2;#it add ith value with ith value\n",
    "print(\"The sum array is: \\n\",sum_array)\n",
    "\n",
    "combined_array = np.concatenate((arr1,arr2))\n",
    "print(\"combined 2 arrays: \\n\",combined_array)#it combined two arrays"
   ]
  },
  {
   "cell_type": "markdown",
   "id": "8b7906b4",
   "metadata": {},
   "source": [
    "### array compatibility"
   ]
  },
  {
   "cell_type": "code",
   "execution_count": 43,
   "id": "7308948b",
   "metadata": {},
   "outputs": [
    {
     "name": "stdout",
     "output_type": "stream",
     "text": [
      "Compatibility Shapes: \n",
      " True\n",
      "Compatibility Shapes: \n",
      " False\n",
      "Original array: \n",
      " [[1 2]\n",
      " [3 4]]\n",
      "new array: \n",
      " [[1 2]\n",
      " [3 4]\n",
      " [5 6]]\n",
      "New Array: \n",
      " [[1 2 7]\n",
      " [3 4 8]]\n"
     ]
    }
   ],
   "source": [
    "a = np.array([1,2,3]);\n",
    "b = np.array([4,5,6]);\n",
    "c = np.array([7,8,9,5]);\n",
    "\n",
    "print(\"Compatibility Shapes: \\n\",a.shape==b.shape)#if both array contains same numbers of element return true else false\n",
    "print(\"Compatibility Shapes: \\n\",a.shape==c.shape)\n",
    "\n",
    "original = np.array([[1,2],[3,4]]);\n",
    "new_row = np.array([5,6]);\n",
    "with_new_row = np.vstack((original,new_row))#vstack -> vertical stack\n",
    "print(\"Original array: \\n\",original)\n",
    "print(\"new array: \\n\",with_new_row);\n",
    "\n",
    "new_col = np.array([[7],[8]]);\n",
    "with_new_col = np.hstack((original,new_col))#hstack -> horizontal stack\n",
    "print(\"New Array: \\n\",with_new_col);"
   ]
  },
  {
   "cell_type": "code",
   "execution_count": null,
   "id": "aa4f76c7",
   "metadata": {},
   "outputs": [
    {
     "name": "stdout",
     "output_type": "stream",
     "text": [
      "Deleted array: \n",
      " [1 2 4 5]\n"
     ]
    }
   ],
   "source": [
    "arr = np.array([1,2,3,4,5]);\n",
    "deleted = np.delete(arr,2);#delete element of index 2\n",
    "print(\"Deleted array: \\n\",deleted)#it return new array without the element that you want to delete"
   ]
  }
 ],
 "metadata": {
  "kernelspec": {
   "display_name": ".venv",
   "language": "python",
   "name": "python3"
  },
  "language_info": {
   "codemirror_mode": {
    "name": "ipython",
    "version": 3
   },
   "file_extension": ".py",
   "mimetype": "text/x-python",
   "name": "python",
   "nbconvert_exporter": "python",
   "pygments_lexer": "ipython3",
   "version": "3.13.6"
  }
 },
 "nbformat": 4,
 "nbformat_minor": 5
}
