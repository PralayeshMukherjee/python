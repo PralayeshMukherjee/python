{
 "cells": [
  {
   "cell_type": "code",
   "execution_count": 6,
   "id": "74565ee1",
   "metadata": {},
   "outputs": [],
   "source": [
    "import numpy as np;"
   ]
  },
  {
   "cell_type": "code",
   "execution_count": 2,
   "id": "d2199ee5",
   "metadata": {},
   "outputs": [],
   "source": [
    "### creating array from list"
   ]
  },
  {
   "cell_type": "code",
   "execution_count": 8,
   "id": "c98e6f7e",
   "metadata": {},
   "outputs": [
    {
     "name": "stdout",
     "output_type": "stream",
     "text": [
      "1D array:  [1 2 3 4 5]\n",
      "2D array:  [[1 2 3]\n",
      " [4 5 6]]\n"
     ]
    }
   ],
   "source": [
    "arr_1d = np.array([1,2,3,4,5])\n",
    "print(\"1D array: \",arr_1d);\n",
    "\n",
    "arr_2d = np.array([[1,2,3],[4,5,6]])\n",
    "print(\"2D array: \",arr_2d);"
   ]
  },
  {
   "cell_type": "code",
   "execution_count": 9,
   "id": "a2b2e275",
   "metadata": {},
   "outputs": [],
   "source": [
    "### List vs numpy array"
   ]
  },
  {
   "cell_type": "code",
   "execution_count": 11,
   "id": "0d635a41",
   "metadata": {},
   "outputs": [
    {
     "name": "stdout",
     "output_type": "stream",
     "text": [
      "python list multiplication  [1, 2, 3, 1, 2, 3]\n",
      "python array multiplication  [2 4 6]\n"
     ]
    }
   ],
   "source": [
    "py_list= [1,2,3]\n",
    "print(\"python list multiplication \",py_list*2);\n",
    "\n",
    "np_array= np.array([1,2,3]) #element wise multiplication\n",
    "print(\"python array multiplication \",np_array*2);"
   ]
  },
  {
   "cell_type": "code",
   "execution_count": 12,
   "id": "b39e1e58",
   "metadata": {},
   "outputs": [],
   "source": [
    "### creating array from scratch"
   ]
  },
  {
   "cell_type": "code",
   "execution_count": 15,
   "id": "ec411d4d",
   "metadata": {},
   "outputs": [
    {
     "name": "stdout",
     "output_type": "stream",
     "text": [
      "zeros array: \n",
      " [[0. 0. 0. 0.]\n",
      " [0. 0. 0. 0.]\n",
      " [0. 0. 0. 0.]]\n",
      "ones array: \n",
      " [[1. 1.]\n",
      " [1. 1.]]\n"
     ]
    }
   ],
   "source": [
    "zeros = np.zeros((3,4));\n",
    "print(\"zeros array: \\n\", zeros);\n",
    "\n",
    "ones = np.ones((2,2));\n",
    "print(\"ones array: \\n\", ones);"
   ]
  },
  {
   "cell_type": "code",
   "execution_count": 19,
   "id": "14fb6b45",
   "metadata": {},
   "outputs": [
    {
     "name": "stdout",
     "output_type": "stream",
     "text": [
      "constant array: \n",
      " [[7 7]\n",
      " [7 7]]\n",
      "random values: \n",
      " [[0.00523684 0.17886332 0.96923198 0.44378228]\n",
      " [0.47808922 0.64770079 0.98511427 0.28396   ]]\n",
      "sequence values: \n",
      " [0 2 4 6 8]\n"
     ]
    }
   ],
   "source": [
    "full = np.full((2,2), 7);\n",
    "print(\"constant array: \\n\", full);\n",
    "#random method\n",
    "random = np.random.random((2,4))\n",
    "print(\"random values: \\n\", random)\n",
    "\n",
    "sequence = np.arange(0,10,2) #give numbers in sequence from 0->9 with 2 gap\n",
    "print(\"sequence values: \\n\", sequence)"
   ]
  },
  {
   "cell_type": "code",
   "execution_count": 20,
   "id": "9aa26f50",
   "metadata": {},
   "outputs": [],
   "source": [
    "### Vector, Matrix and Tensor"
   ]
  },
  {
   "cell_type": "code",
   "execution_count": 26,
   "id": "3451b5a3",
   "metadata": {},
   "outputs": [
    {
     "name": "stdout",
     "output_type": "stream",
     "text": [
      "vector: \n",
      " [1 2 3]\n",
      "matrix: \n",
      " [[1 2 3]\n",
      " [4 5 6]]\n",
      "tensor: \n",
      " [[[1 2]\n",
      "  [3 4]]\n",
      "\n",
      " [[5 6]\n",
      "  [7 8]]]\n"
     ]
    }
   ],
   "source": [
    "vector = np.array([1,2,3]);\n",
    "print(\"vector: \\n\",vector);\n",
    "\n",
    "matrix = np.array([[1,2,3],[4,5,6]]);\n",
    "print(\"matrix: \\n\",matrix);\n",
    "\n",
    "tensor = np.array([[[1,2],[3,4]],\n",
    "                   [[5,6],[7,8]]])\n",
    "print(\"tensor: \\n\",tensor);"
   ]
  },
  {
   "cell_type": "code",
   "execution_count": 27,
   "id": "4849c56c",
   "metadata": {},
   "outputs": [],
   "source": [
    "### Array Properties"
   ]
  },
  {
   "cell_type": "code",
   "execution_count": 31,
   "id": "a90f842d",
   "metadata": {},
   "outputs": [
    {
     "name": "stdout",
     "output_type": "stream",
     "text": [
      "shape of  (2, 3)\n",
      "Dimention:  2\n",
      "Size:  6\n",
      "data type:  int64\n"
     ]
    }
   ],
   "source": [
    "arr = np.array([[1,2,3],\n",
    "                [4,5,6]]);\n",
    "print(\"shape of \",arr.shape); # it's gives number of rows & column\n",
    "print(\"Dimention: \",arr.ndim) # it's gives number of dimentions\n",
    "print(\"Size: \",arr.size)# it's gives size of the array-> total number of elements\n",
    "print(\"data type: \",arr.dtype)#it's gives data type "
   ]
  },
  {
   "cell_type": "code",
   "execution_count": 32,
   "id": "a6fd84d7",
   "metadata": {},
   "outputs": [],
   "source": [
    "### Array Reshaping"
   ]
  },
  {
   "cell_type": "code",
   "execution_count": null,
   "id": "074b468c",
   "metadata": {},
   "outputs": [
    {
     "name": "stdout",
     "output_type": "stream",
     "text": [
      "Original Array [ 0  1  2  3  4  5  6  7  8  9 10 11]\n",
      "\n",
      "Reshaped Array: \n",
      " [[ 0  1  2  3]\n",
      " [ 4  5  6  7]\n",
      " [ 8  9 10 11]]\n",
      "\n",
      " Flattend Array: \n",
      " [ 0  1  2  3  4  5  6  7  8  9 10 11]\n",
      "\n",
      " Raveled Array: \n",
      " [ 0  1  2  3  4  5  6  7  8  9 10 11]\n",
      "\n",
      " transposed array is: \n",
      " [[ 0  4  8]\n",
      " [ 1  5  9]\n",
      " [ 2  6 10]\n",
      " [ 3  7 11]]\n"
     ]
    }
   ],
   "source": [
    "arr = np.arange(12);# gives sequence of values from 0->11\n",
    "print(\"Original Array\",arr);\n",
    "reshaped = arr.reshape((3,4))\n",
    "print(\"\\nReshaped Array: \\n\",reshaped) # its gives the array of 3 rows and 4 columns\n",
    "\n",
    "flattend = reshaped.flatten()\n",
    "print(\"\\n Flattend Array: \\n\",flattend)#it's gives the array in flat and try to give a 1D array\n",
    "\n",
    "# ravel (return view, instade of copy)->means return the original array\n",
    "raveled = reshaped.ravel()\n",
    "print(\"\\n Raveled Array: \\n\", raveled) #it's also gives you a falt array and try to give a 1D array\n",
    "\n",
    "transpose = reshaped.T #its gives the transposed of a matrix and it isn't a method it is a property of array\n",
    "print(\"\\n transposed array is: \\n\", transpose)"
   ]
  }
 ],
 "metadata": {
  "kernelspec": {
   "display_name": ".venv",
   "language": "python",
   "name": "python3"
  },
  "language_info": {
   "codemirror_mode": {
    "name": "ipython",
    "version": 3
   },
   "file_extension": ".py",
   "mimetype": "text/x-python",
   "name": "python",
   "nbconvert_exporter": "python",
   "pygments_lexer": "ipython3",
   "version": "3.13.6"
  }
 },
 "nbformat": 4,
 "nbformat_minor": 5
}
